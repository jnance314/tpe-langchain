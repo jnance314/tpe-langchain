{
  "cells": [
    {
      "cell_type": "code",
      "execution_count": null,
      "metadata": {
        "id": "xNDNygdyDCUf"
      },
      "outputs": [],
      "source": [
        "import os\n",
        "os.environ['PIP_CACHE_DIR'] = \"/content/drive/MyDrive/pip_cache\"\n",
        "os.environ['OPENAI_API_KEY'] = \"xxxxxx\"\n",
        "!pip install langchain\n",
        "!pip install openai\n",
        "!pip install python-dotenv\n",
        "!pip install chromadb\n",
        "!pip install tiktoken"
      ]
    },
    {
      "cell_type": "code",
      "execution_count": 13,
      "metadata": {
        "id": "fz72QT-KDN3M"
      },
      "outputs": [],
      "source": [
        "from langchain.embeddings.openai import OpenAIEmbeddings\n",
        "from langchain.chat_models import ChatOpenAI\n",
        "from langchain.vectorstores import Chroma\n",
        "from langchain.text_splitter import RecursiveCharacterTextSplitter\n",
        "from langchain.llms import OpenAI\n",
        "from langchain.chains import RetrievalQA\n",
        "from langchain.agents import initialize_agent, Tool\n",
        "from langchain.agents import AgentType\n",
        "from langchain.tools import BaseTool\n",
        "from langchain.llms import OpenAI\n",
        "from langchain import LLMMathChain, SerpAPIWrapper\n",
        "\n",
        "#docloaders depend on doctype\n",
        "from langchain.document_loaders import WebBaseLoader\n",
        "\n",
        "\n",
        "# llm and indexer\n",
        "llm = ChatOpenAI(temperature=0, model_name=\"gpt-4-0613\")\n",
        "embeddings = OpenAIEmbeddings()\n",
        "text_splitter = RecursiveCharacterTextSplitter(\n",
        "chunk_size=2000, chunk_overlap=0, separators=[\" \", \",\", \"\\n\"]\n",
        ")\n",
        "\n",
        "\n",
        "# document source #1 goes here\n",
        "loader1 = WebBaseLoader(\"https://en.wikipedia.org/wiki/Ultimate_Fighting_Championship\")\n",
        "docs1 = loader1.load()\n",
        "source1 = text_splitter.split_documents(docs1)\n",
        "source1_db = Chroma.from_documents(source1, embeddings, collection_name=\"ufc\")\n",
        "docchain1 = RetrievalQA.from_chain_type(\n",
        "    llm=llm, chain_type=\"stuff\", retriever=source1_db.as_retriever()\n",
        ")\n",
        "\n",
        "\n",
        "# document source #2 goes here\n",
        "loader2 = WebBaseLoader(\"https://en.wikipedia.org/wiki/2022\")\n",
        "docs2 = loader2.load()\n",
        "source2 = text_splitter.split_documents(docs2)\n",
        "source2_db = Chroma.from_documents(source2, embeddings, collection_name=\"2022\")\n",
        "docchain2 = RetrievalQA.from_chain_type(\n",
        "    llm=llm, chain_type=\"stuff\", retriever=source2_db.as_retriever()\n",
        ")\n",
        "\n",
        "# Define some tools with which we will endow our agent\n",
        "tools = [\n",
        "    Tool(\n",
        "        name=\"UFC system\",\n",
        "        func=docchain1.run,\n",
        "        description=\"useful for when you need to answer questions about the Ultimate Fighting Championship. Input should be a fully formed question.\",\n",
        "        return_direct=True\n",
        "    ),\n",
        "    Tool(\n",
        "        name=\"The year 2022\",\n",
        "        func=docchain2.run,\n",
        "        description=\"useful for when you need to answer questions about things that happened in the year 2022. Input should be a fully formed question.\",\n",
        "        return_direct=True\n",
        "    ),\n",
        "]\n",
        "\n",
        "# the agent is a router\n",
        "agent = initialize_agent(\n",
        "    tools, llm, agent=AgentType.ZERO_SHOT_REACT_DESCRIPTION, verbose=True\n",
        ")"
      ]
    },
    {
      "cell_type": "code",
      "execution_count": null,
      "metadata": {
        "id": "rZDNDL3NHSjA"
      },
      "outputs": [],
      "source": [
        "agent.run(\n",
        "    \"Who is a politician who died in the year 2022?\"\n",
        ")"
      ]
    },
    {
      "cell_type": "code",
      "execution_count": null,
      "metadata": {
        "id": "0Zk7iHaGHsHD"
      },
      "outputs": [],
      "source": [
        "agent.run(\n",
        "    \"Has there ever been a 5-round non-title, non-main event bout?\"\n",
        ")"
      ]
    }
  ],
  "metadata": {
    "colab": {
      "provenance": []
    },
    "kernelspec": {
      "display_name": "Python 3",
      "name": "python3"
    },
    "language_info": {
      "name": "python"
    }
  },
  "nbformat": 4,
  "nbformat_minor": 0
}
